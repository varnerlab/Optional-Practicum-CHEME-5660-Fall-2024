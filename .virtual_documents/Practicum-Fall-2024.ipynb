





include("Include.jl");





original_dataset = MyOutOfSamepleMarketDataSet() |> x-> x["dataset"];





maximum_number_trading_days = original_dataset["AAPL"] |> nrow;





dataset = let
    dataset = Dict{String,DataFrame}();
    for (ticker,data) ∈ original_dataset
        if (nrow(data) == maximum_number_trading_days)
            dataset[ticker] = data;
        end
    end
    dataset
end





list_of_all_tickers = keys(dataset) |> collect |> sort;





sim_parameter_dictionary = MyInSampleSIMParameters()["sim"];





Δt = (1/252); # time-step
initial_budget = 1000.0; # initial budget of the agent
risk_free_rate = 0.038; # risk free rate
μₘ = 0.078; # expected excess return for SPY
ϵ = 0.01; # hyper-parameter: minimum share number for each asset





my_list_of_tickers = [
    "WFC", "GS", "TGT", "GM", "JNJ", 
    "WYNN", "MS", "COST", "BA", "TSLA", "PFE", 
    "MRK", "AAPL", "MSFT", "MMM", "PG", "DPZ"]; # pick some tickers - you can select what you want. However, we need to have SIM and OOS data for your choices.





γ = let

    P = length(my_list_of_tickers);
    γ = Array{Float64,1}(undef, P);

    for i ∈ eachindex(my_list_of_tickers)
        ticker = my_list_of_tickers[i];

        αᵢ = sim_parameter_dictionary[ticker].α;
        βᵢ = sim_parameter_dictionary[ticker].β;
        γ[i] = sign(αᵢ + βᵢ*μₘ)
    
    end
    γ
end;





let
    P = length(my_list_of_tickers);
    df = DataFrame();

    for i ∈ eachindex(my_list_of_tickers)
        ticker = my_list_of_tickers[i];
        γᵢ = γ[i];
        
        label = nothing
        if (γᵢ ≤ 0)
            label = "not preferred"
        else
            label = "preferred"
        end

        row_df = (
            ticker = ticker,
            γᵢ = γᵢ,
            sentiment = label,
        );
        push!(df, row_df);
    end

    pretty_table(df, tf=tf_simple)
end;





Sₒ = let

    P = length(my_list_of_tickers);
    Sₒ = Array{Float64,1}(undef, P); 

    for i ∈ eachindex(my_list_of_tickers)
        ticker = my_list_of_tickers[i];
        H = dataset[ticker][1,:high];
        L = dataset[ticker][1,:low];
        f = rand();
        Sₒ[i] = f*H + (1-f)*L;
    end

    Sₒ;
end;





bounds = let

    P = length(my_list_of_tickers);
    bounds = Array{Float64,2}(undef, P, 2);
    for i ∈ eachindex(my_list_of_tickers)
        bounds[i,1] = ϵ; # min shares that we can hold of this asset
        bounds[i,2] = Inf; # max number of shares, Inf says this is unbounded
    end
    bounds;
end;





model = let

    P = length(my_list_of_tickers);
    nₒ = ones(P); # initial guess, we buy 1 x share of everything

    model = build(MySimpleCobbDouglasChoiceProblem, (
        
        γ = γ,
        B = initial_budget,
        c = Sₒ,
        bounds = bounds,
        initial = nₒ
    ));

    model
end;





solution = let
    solution = nothing;
    try
        solution = solve(model);
    catch error
        println("Oooops! We encountered an error: $(error)"); 
    end
    solution;
end





let

    P = length(my_list_of_tickers);
    n = solution["argmax"];
    df = DataFrame();
    ntotal = sum(n);
    
    for i ∈ eachindex(my_list_of_tickers)
        ticker = my_list_of_tickers[i];

        row_df = (
            ticker = ticker,
            nᵢ = n[i],
            n̄ᵢ = (n[i]/ntotal)*100,
            ωᵢ = ((n[i]*Sₒ[i])/initial_budget)*100
        );
        push!(df, row_df);
    end
    pretty_table(df, tf = tf_simple)
end





wealth_utility_max = let

    P = length(my_list_of_tickers);
    wealth = Array{Float64,2}(undef, maximum_number_trading_days, P+1);
    n = solution["argmax"];

    for i ∈ 1:maximum_number_trading_days
        
        for j ∈ eachindex(my_list_of_tickers)
            ticker = my_list_of_tickers[j];
            wealth[i,j] = n[j]*dataset[ticker][i,:close]; # use the close price
        end
        total = sum(wealth[i,1:end-1]);
        wealth[i,end] = total;
    end

    wealth
end;





wealth_SPY = let

    # fill price SPY -
    ticker = "SPY";
    H = dataset[ticker][1,:high];
    L = dataset[ticker][1,:low];
    f = rand();
    Sₒ = f*H + (1-f)*L; # initial fill price for SPY
    n = initial_budget/Sₒ; # how many shares did we purchase
    wealth = Array{Float64,1}(undef, maximum_number_trading_days);

    for i ∈ 1:maximum_number_trading_days
        wealth[i] = n*dataset[ticker][i,:close]; # use the close price
    end

    wealth;
end;





wealth_equally_weighted = let

    P = length(my_list_of_tickers);
    wealth = Array{Float64,2}(undef, maximum_number_trading_days, P+1);
    n = Array{Float64,1}(undef, P);
    
    # compute the initial n -
    for i ∈ 1:P
        n[i] = ((1/P)*initial_budget)/Sₒ[i];
    end

    for i ∈ 1:maximum_number_trading_days
        for j ∈ eachindex(my_list_of_tickers)
            ticker = my_list_of_tickers[j];
            wealth[i,j] = n[j]*dataset[ticker][i,:close]; # use the close price
        end
        total = sum(wealth[i,1:end-1]);
        wealth[i,end] = total;
    end

    wealth
end;





let
    q = plot(bg="gray95", background_color_outside="white", framestyle = :box, fg_legend = :transparent);
    plot(q, wealth_utility_max[:,end], lw=3, label="Utility", c=:navy)
    plot!(wealth_equally_weighted[:,end], lw=3, label="Equally weighted", c=:deepskyblue1);
    plot!(wealth_SPY, lw=3, label="SPY", c=:red);
    xlabel!("Trading day index 2024 (AU)", fontsize=18);
    ylabel!("Wealth (USD)", fontsize=18);
end



